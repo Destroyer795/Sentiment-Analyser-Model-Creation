{
  "cells": [
    {
      "cell_type": "code",
      "execution_count": null,
      "metadata": {
        "id": "Wc1p-Hamxe5v"
      },
      "outputs": [],
      "source": [
        "!pip install torch==2.2.2 torchtext==0.17.2 torchvision torchaudio\n",
        "!pip install torchdata==0.7.1 --quiet\n",
        "!pip install 'portalocker>=2.0.0'\n",
        "!pip install spacy nltk gensim"
      ]
    },
    {
      "cell_type": "code",
      "execution_count": null,
      "metadata": {
        "colab": {
          "base_uri": "https://localhost:8080/"
        },
        "id": "S6WM4o9EmKR1",
        "outputId": "1a18e90a-6c33-470f-add0-0e08cdce03bf"
      },
      "outputs": [
        {
          "output_type": "stream",
          "name": "stderr",
          "text": [
            "[nltk_data] Downloading package stopwords to /root/nltk_data...\n",
            "[nltk_data]   Unzipping corpora/stopwords.zip.\n"
          ]
        },
        {
          "output_type": "execute_result",
          "data": {
            "text/plain": [
              "True"
            ]
          },
          "metadata": {},
          "execution_count": 2
        }
      ],
      "source": [
        "from torchtext import _extension\n",
        "import torch\n",
        "import torch.nn as nn\n",
        "import torch.optim as optim\n",
        "import torchtext\n",
        "from torchtext.datasets import IMDB\n",
        "from sklearn.model_selection import train_test_split\n",
        "import spacy\n",
        "import re\n",
        "from nltk.corpus import stopwords as nltk_stopwords\n",
        "from spacy.lang.en.stop_words import STOP_WORDS as spacy_stopwords\n",
        "from gensim.models import Word2Vec\n",
        "import numpy as np\n",
        "import nltk\n",
        "nltk.download('stopwords')"
      ]
    },
    {
      "cell_type": "code",
      "execution_count": null,
      "metadata": {
        "id": "D38UQY66mO4f"
      },
      "outputs": [],
      "source": [
        "# 1. Initial Setup and Preprocessing\n",
        "\n",
        "# Set a seed for reproducibility\n",
        "SEED = 2222\n",
        "torch.manual_seed(SEED)\n",
        "torch.backends.cudnn.deterministic = True\n",
        "\n",
        "# Load spacy model\n",
        "# You may need to run: python -m spacy download en_core_web_sm\n",
        "nlp = spacy.load(\"en_core_web_sm\", disable=[\"parser\", \"ner\"])\n",
        "\n",
        "# Combine stopwords from NLTK and SpaCy\n",
        "stop_words = set(nltk_stopwords.words('english')).union(spacy_stopwords)\n",
        "\n",
        "def preprocess_text(text):\n",
        "    \"\"\"Cleans, tokenizes, and lemmatizes text data.\"\"\"\n",
        "    text = re.sub(r'<.*?>', '', text)  # Remove HTML tags\n",
        "    tokenizer = re.compile(r\"\\w+'?\\w+|\\w+\")\n",
        "    tokens = tokenizer.findall(text.lower())\n",
        "    lemmatized_tokens = [\n",
        "        token.lemma_ for token in nlp(\" \".join(tokens)) if token.text not in stop_words\n",
        "    ]\n",
        "    return lemmatized_tokens"
      ]
    },
    {
      "cell_type": "code",
      "execution_count": null,
      "metadata": {
        "colab": {
          "base_uri": "https://localhost:8080/"
        },
        "id": "XwWs4bKMmbu5",
        "outputId": "7e147a44-f182-4fe4-9ca6-7f082e23cbad"
      },
      "outputs": [
        {
          "output_type": "stream",
          "name": "stdout",
          "text": [
            "Loading and processing IMDb dataset...\n",
            "Processed 50000 reviews.\n",
            "--------------------\n"
          ]
        }
      ],
      "source": [
        "# 2. Load and Process the Dataset\n",
        "\n",
        "print(\"Loading and processing IMDb dataset...\")\n",
        "train_iter, test_iter = IMDB(split=('train', 'test'))\n",
        "\n",
        "reviews = []\n",
        "labels = []\n",
        "\n",
        "# Process all data (this will take a while)\n",
        "for label, text in list(train_iter) + list(test_iter):\n",
        "    reviews.append(preprocess_text(text))\n",
        "    # Convert labels from [1, 2] to [0 (negative), 1 (positive)]\n",
        "    labels.append(label - 1)\n",
        "\n",
        "print(f\"Processed {len(reviews)} reviews.\")\n",
        "print(\"-\" * 20)"
      ]
    },
    {
      "cell_type": "code",
      "execution_count": null,
      "metadata": {
        "colab": {
          "base_uri": "https://localhost:8080/"
        },
        "id": "u5kimwWlmfdQ",
        "outputId": "b27fcb3a-84e1-4353-d56d-f1053aa0b5f2"
      },
      "outputs": [
        {
          "output_type": "stream",
          "name": "stdout",
          "text": [
            "Training Word2Vec model...\n",
            "Word2Vec model trained. Vocabulary size: 7524\n",
            "--------------------\n"
          ]
        }
      ],
      "source": [
        "# 3. Train Word Embeddings using Word2Vec\n",
        "\n",
        "print(\"Training Word2Vec model...\")\n",
        "embedding_dimension = 100\n",
        "word2vec_model = Word2Vec(\n",
        "    sentences=reviews,\n",
        "    vector_size=embedding_dimension,\n",
        "    window=5,\n",
        "    min_count=5,  # Consider words that appear at least 5 times\n",
        "    workers=4,\n",
        "    max_vocab_size=15000\n",
        ")\n",
        "# Extract keyed vectors and free up memory\n",
        "word_vectors = word2vec_model.wv\n",
        "del word2vec_model\n",
        "print(f\"Word2Vec model trained. Vocabulary size: {len(word_vectors.key_to_index)}\")\n",
        "print(\"-\" * 20)"
      ]
    },
    {
      "cell_type": "code",
      "execution_count": null,
      "metadata": {
        "colab": {
          "base_uri": "https://localhost:8080/"
        },
        "id": "CQyrP8f6mjzk",
        "outputId": "f16c4be7-bb8f-4d52-fe31-46e37218e347"
      },
      "outputs": [
        {
          "output_type": "stream",
          "name": "stderr",
          "text": [
            "/usr/local/lib/python3.12/dist-packages/gensim/models/keyedvectors.py:551: UserWarning: Adding single vectors to a KeyedVectors which grows by one each time can be costly. Consider adding in batches or preallocating to the required size.\n",
            "  warnings.warn(\n"
          ]
        }
      ],
      "source": [
        "# 4. Prepare Data for PyTorch\n",
        "\n",
        "def word2idx(embedding_model, review):\n",
        "    \"\"\"Converts a tokenized review to a list of vocabulary indices.\"\"\"\n",
        "    index_review = []\n",
        "    for word in review:\n",
        "        if word in embedding_model.key_to_index:\n",
        "            index_review.append(embedding_model.key_to_index[word])\n",
        "    return torch.tensor(index_review)\n",
        "\n",
        "# The padding value will be the index for an <unk> or <pad> token.\n",
        "# Let's make it 0 and shift all other indices by 1.\n",
        "padding_value = 0\n",
        "word_vectors.add_vector('<pad>', np.zeros(embedding_dimension)) # Add a padding vector\n",
        "# The index of our padding token is now the last one. We will handle this in the model.\n",
        "\n",
        "# Convert all reviews to their index representations\n",
        "index_reviews = [word2idx(word_vectors, review) for review in reviews]\n",
        "\n",
        "# Extract weights from the trained Word2Vec model\n",
        "embedding_weights = torch.FloatTensor(word_vectors.vectors)"
      ]
    },
    {
      "cell_type": "code",
      "execution_count": null,
      "metadata": {
        "colab": {
          "base_uri": "https://localhost:8080/"
        },
        "id": "6riS4owLmpde",
        "outputId": "6425cc6a-9157-4f06-b0fc-b0d033bc2e11"
      },
      "outputs": [
        {
          "output_type": "stream",
          "name": "stdout",
          "text": [
            "Training samples: 40000\n",
            "Validation samples: 5000\n",
            "Testing samples: 5000\n",
            "--------------------\n"
          ]
        }
      ],
      "source": [
        "# 5. Split Data and Define Batch Iterator\n",
        "\n",
        "X_train, X_temp, y_train, y_temp = train_test_split(\n",
        "    index_reviews, labels, test_size=0.2, random_state=SEED\n",
        ")\n",
        "X_val, X_test, y_val, y_test = train_test_split(\n",
        "    X_temp, y_temp, test_size=0.5, random_state=SEED\n",
        ")\n",
        "\n",
        "print(f\"Training samples: {len(X_train)}\")\n",
        "print(f\"Validation samples: {len(X_val)}\")\n",
        "print(f\"Testing samples: {len(X_test)}\")\n",
        "print(\"-\" * 20)\n",
        "\n",
        "def iterator_func(X, y, batch_size=64):\n",
        "    \"\"\"Creates batches of data, sorts them by length, and pads them.\"\"\"\n",
        "    size = len(X)\n",
        "    permutation = np.random.permutation(size)\n",
        "    iterator = []\n",
        "    for i in range(0, size, batch_size):\n",
        "        indices = permutation[i:i + batch_size]\n",
        "        batch_texts = [X[i] for i in indices]\n",
        "        batch_labels = [y[i] for i in indices]\n",
        "\n",
        "        # Sort by length in descending order (required for packing)\n",
        "        sorted_batch = sorted(zip(batch_texts, batch_labels), key=lambda x: len(x[0]), reverse=True)\n",
        "        batch_texts, batch_labels = zip(*sorted_batch)\n",
        "\n",
        "        batch = {\n",
        "            \"text\": list(batch_texts),\n",
        "            \"label\": list(batch_labels)\n",
        "        }\n",
        "\n",
        "        batch[\"length\"] = torch.IntTensor([len(review) for review in batch[\"text\"]])\n",
        "\n",
        "        # Pad sequences and transpose for RNN input shape\n",
        "        batch[\"text\"] = nn.utils.rnn.pad_sequence(\n",
        "            batch[\"text\"], padding_value=padding_value, batch_first=False\n",
        "        )\n",
        "        batch[\"label\"] = torch.FloatTensor(batch[\"label\"])\n",
        "\n",
        "        iterator.append(batch)\n",
        "    return iterator"
      ]
    },
    {
      "cell_type": "code",
      "execution_count": null,
      "metadata": {
        "id": "I66vO3WBmttD"
      },
      "outputs": [],
      "source": [
        "# 6. Define the RNN Model\n",
        "\n",
        "class RNN(nn.Module):\n",
        "    def __init__(self, input_dim, embedding_dim, hidden_dim, output_dim, n_layers, bidirectional, dropout, embedding_weights):\n",
        "        super().__init__()\n",
        "        self.embedding = nn.Embedding.from_pretrained(embedding_weights, padding_idx=padding_value)\n",
        "        self.rnn = nn.LSTM(\n",
        "            embedding_dim,\n",
        "            hidden_dim,\n",
        "            num_layers=n_layers,\n",
        "            bidirectional=bidirectional,\n",
        "            dropout=dropout\n",
        "        )\n",
        "        self.fc = nn.Linear(hidden_dim * 2, output_dim) # *2 for bidirectional\n",
        "        self.dropout = nn.Dropout(dropout)\n",
        "\n",
        "    def forward(self, text, text_lengths):\n",
        "        embedded = self.embedding(text)\n",
        "        packed_embedded = nn.utils.rnn.pack_padded_sequence(embedded, text_lengths.to('cpu'))\n",
        "        packed_output, (hidden, cell) = self.rnn(packed_embedded)\n",
        "        hidden = self.dropout(torch.cat((hidden[-2,:,:], hidden[-1,:,:]), dim=1))\n",
        "        return self.fc(hidden)"
      ]
    },
    {
      "cell_type": "code",
      "execution_count": null,
      "metadata": {
        "id": "c2W_VvcDmwyQ"
      },
      "outputs": [],
      "source": [
        "# 7. Training Setup\n",
        "\n",
        "# Hyperparameters\n",
        "INPUT_DIM = len(word_vectors.key_to_index)\n",
        "EMBEDDING_DIM = 100\n",
        "HIDDEN_DIM = 256\n",
        "OUTPUT_DIM = 1\n",
        "N_LAYERS = 2\n",
        "BIDIRECTIONAL = True\n",
        "DROPOUT = 0.5\n",
        "N_EPOCHS = 5\n",
        "BATCH_SIZE = 64\n",
        "\n",
        "# Instantiate model, optimizer, criterion\n",
        "model = RNN(\n",
        "    INPUT_DIM, EMBEDDING_DIM, HIDDEN_DIM, OUTPUT_DIM, N_LAYERS,\n",
        "    BIDIRECTIONAL, DROPOUT, embedding_weights\n",
        ")\n",
        "optimizer = optim.Adam(model.parameters())\n",
        "criterion = nn.BCEWithLogitsLoss()\n",
        "device = torch.device('cuda' if torch.cuda.is_available() else 'cpu')\n",
        "model = model.to(device)\n",
        "criterion = criterion.to(device)\n",
        "\n",
        "def binary_accuracy(preds, y):\n",
        "    \"\"\"Returns accuracy per batch\"\"\"\n",
        "    rounded_preds = torch.round(torch.sigmoid(preds))\n",
        "    correct = (rounded_preds == y).float()\n",
        "    acc = correct.sum() / len(correct)\n",
        "    return acc\n",
        "\n",
        "def train(model, iterator, optimizer, criterion):\n",
        "    epoch_loss = 0\n",
        "    epoch_acc = 0\n",
        "    model.train()\n",
        "    for batch in iterator:\n",
        "        text, text_lengths = batch[\"text\"].to(device), batch[\"length\"].to(device)\n",
        "        labels = batch[\"label\"].to(device)\n",
        "\n",
        "        optimizer.zero_grad()\n",
        "        predictions = model(text, text_lengths).squeeze(1)\n",
        "        loss = criterion(predictions, labels)\n",
        "        acc = binary_accuracy(predictions, labels)\n",
        "        loss.backward()\n",
        "        optimizer.step()\n",
        "        epoch_loss += loss.item()\n",
        "        epoch_acc += acc.item()\n",
        "    return epoch_loss / len(iterator), epoch_acc / len(iterator)\n",
        "\n",
        "def evaluate(model, iterator, criterion):\n",
        "    epoch_loss = 0\n",
        "    epoch_acc = 0\n",
        "    model.eval()\n",
        "    with torch.no_grad():\n",
        "        for batch in iterator:\n",
        "            text, text_lengths = batch[\"text\"].to(device), batch[\"length\"].to(device)\n",
        "            labels = batch[\"label\"].to(device)\n",
        "            predictions = model(text, text_lengths).squeeze(1)\n",
        "            loss = criterion(predictions, labels)\n",
        "            acc = binary_accuracy(predictions, labels)\n",
        "            epoch_loss += loss.item()\n",
        "            epoch_acc += acc.item()\n",
        "    return epoch_loss / len(iterator), epoch_acc / len(iterator)\n"
      ]
    },
    {
      "cell_type": "code",
      "execution_count": null,
      "metadata": {
        "colab": {
          "base_uri": "https://localhost:8080/"
        },
        "id": "4FCy68J4m1Ln",
        "outputId": "b10317d8-ddd0-4a99-9432-16fd68618acd"
      },
      "outputs": [
        {
          "output_type": "stream",
          "name": "stdout",
          "text": [
            "\n",
            "Starting model training...\n",
            "Epoch: 01 | Train Loss: 0.481 | Train Acc: 76.83% | Val. Loss: 0.407 | Val. Acc: 81.69%\n",
            "Epoch: 02 | Train Loss: 0.334 | Train Acc: 85.67% | Val. Loss: 0.327 | Val. Acc: 85.66%\n",
            "Epoch: 03 | Train Loss: 0.293 | Train Acc: 87.67% | Val. Loss: 0.304 | Val. Acc: 86.00%\n",
            "Epoch: 04 | Train Loss: 0.268 | Train Acc: 88.94% | Val. Loss: 0.290 | Val. Acc: 87.58%\n",
            "Epoch: 05 | Train Loss: 0.247 | Train Acc: 89.96% | Val. Loss: 0.284 | Val. Acc: 88.35%\n",
            "\n",
            "Training finished.\n",
            "--------------------\n"
          ]
        }
      ],
      "source": [
        "# 8. Model Training Loop\n",
        "\n",
        "train_iterator = iterator_func(X_train, y_train, BATCH_SIZE)\n",
        "valid_iterator = iterator_func(X_val, y_val, BATCH_SIZE)\n",
        "test_iterator = iterator_func(X_test, y_test, BATCH_SIZE)\n",
        "\n",
        "print(\"\\nStarting model training...\")\n",
        "for epoch in range(N_EPOCHS):\n",
        "    train_loss, train_acc = train(model, train_iterator, optimizer, criterion)\n",
        "    valid_loss, valid_acc = evaluate(model, valid_iterator, criterion)\n",
        "    print(f'Epoch: {epoch+1:02} | Train Loss: {train_loss:.3f} | Train Acc: {train_acc*100:.2f}% | Val. Loss: {valid_loss:.3f} | Val. Acc: {valid_acc*100:.2f}%')\n",
        "\n",
        "print(\"\\nTraining finished.\")\n",
        "print(\"-\" * 20)"
      ]
    },
    {
      "cell_type": "code",
      "execution_count": null,
      "metadata": {
        "colab": {
          "base_uri": "https://localhost:8080/"
        },
        "id": "OrryDWXim3i9",
        "outputId": "202a4737-b450-4cc5-8dd5-35883e3b32b0"
      },
      "outputs": [
        {
          "output_type": "stream",
          "name": "stdout",
          "text": [
            "Test Loss: 0.288 | Test Acc: 88.13%\n"
          ]
        }
      ],
      "source": [
        "# 9. Final Evaluation and Prediction\n",
        "\n",
        "test_loss, test_acc = evaluate(model, test_iterator, criterion)\n",
        "print(f'Test Loss: {test_loss:.3f} | Test Acc: {test_acc*100:.2f}%')\n",
        "\n",
        "def predict_sentiment(sentence, model, word_vectors, device):\n",
        "    model.eval()\n",
        "    tokenized = preprocess_text(sentence)\n",
        "    indexed = [word_vectors.key_to_index.get(t, -1) for t in tokenized]\n",
        "    indexed = [i for i in indexed if i != -1] # Remove out-of-vocabulary words\n",
        "    if not indexed:\n",
        "        return 0.5 # Neutral if no words are in vocabulary\n",
        "\n",
        "    length = torch.LongTensor([len(indexed)])\n",
        "    tensor = torch.LongTensor(indexed).to(device).unsqueeze(1)\n",
        "    prediction = torch.sigmoid(model(tensor, length))\n",
        "    return prediction.item()"
      ]
    },
    {
      "cell_type": "code",
      "execution_count": null,
      "metadata": {
        "colab": {
          "base_uri": "https://localhost:8080/"
        },
        "id": "gb3HGW0zm7VY",
        "outputId": "73230e3f-1060-4b21-9fb5-ea665ff9ef63"
      },
      "outputs": [
        {
          "output_type": "stream",
          "name": "stdout",
          "text": [
            "--------------------\n",
            "Review: 'This movie was absolutely fantastic, I loved every minute of it!'\n",
            "Sentiment Score: 0.9794 (Positive)\n",
            "Review: 'It was a complete waste of time, the plot was boring and the acting was terrible.'\n",
            "Sentiment Score: 0.0010 (Negative)\n"
          ]
        }
      ],
      "source": [
        "# Example Prediction to evaluate\n",
        "print(\"-\" * 20)\n",
        "review1 = \"This movie was absolutely fantastic, I loved every minute of it!\"\n",
        "score1 = predict_sentiment(review1, model, word_vectors, device)\n",
        "print(f\"Review: '{review1}'\\nSentiment Score: {score1:.4f} ({'Positive' if score1 > 0.5 else 'Negative'})\")\n",
        "\n",
        "review2 = \"It was a complete waste of time, the plot was boring and the acting was terrible.\"\n",
        "score2 = predict_sentiment(review2, model, word_vectors, device)\n",
        "print(f\"Review: '{review2}'\\nSentiment Score: {score2:.4f} ({'Positive' if score2 > 0.5 else 'Negative'})\")"
      ]
    },
    {
      "cell_type": "code",
      "execution_count": null,
      "metadata": {
        "colab": {
          "base_uri": "https://localhost:8080/"
        },
        "id": "SAi-9xXa_bcx",
        "outputId": "6d57cd5b-e818-40c9-a010-940a94120525"
      },
      "outputs": [
        {
          "output_type": "stream",
          "name": "stdout",
          "text": [
            "Model and word vectors have been saved successfully!\n",
            "You can now find 'sentiment_model.pth' and 'word_vectors.kv' in the file browser on the left.\n"
          ]
        }
      ],
      "source": [
        "# 10. Save Artifacts for Deployment\n",
        "\n",
        "# Saving the trained model's state dictionary\n",
        "torch.save(model.state_dict(), 'sentiment_model.pth')\n",
        "\n",
        "# Saving the Gensim Word2Vec keyed vectors\n",
        "word_vectors.save('word_vectors.kv')\n",
        "\n",
        "print(\"Model and word vectors have been saved successfully!\")\n",
        "print(\"You can now find 'sentiment_model.pth' and 'word_vectors.kv' in the file browser on the left.\")"
      ]
    }
  ],
  "metadata": {
    "accelerator": "GPU",
    "colab": {
      "gpuType": "T4",
      "provenance": []
    },
    "kernelspec": {
      "display_name": "Python 3",
      "name": "python3"
    },
    "language_info": {
      "name": "python"
    }
  },
  "nbformat": 4,
  "nbformat_minor": 0
}